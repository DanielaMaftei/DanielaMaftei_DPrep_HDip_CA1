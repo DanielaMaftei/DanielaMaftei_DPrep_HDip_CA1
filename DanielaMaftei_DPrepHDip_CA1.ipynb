{
 "cells": [
  {
   "cell_type": "code",
   "execution_count": null,
   "id": "4c995b03-21d8-4c59-8c99-c1e3e4b87b80",
   "metadata": {},
   "outputs": [],
   "source": [
    "import pandas as pd\n",
    "\n",
    "# Load the dataset\n",
    "df = pd.read_csv('Spambase.csv', header=None)"
   ]
  },
  {
   "cell_type": "code",
   "execution_count": null,
   "id": "126429e8-7f37-4b3b-a023-97c3f24a2be4",
   "metadata": {
    "scrolled": true
   },
   "outputs": [],
   "source": [
    "# Explore the dataset\n",
    "print(df.shape)  # Print the number of rows and columns\n",
    "print(df.head())  # Print the first few rows\n",
    "print(df.info())  # Print information about the dataset"
   ]
  },
  {
   "cell_type": "code",
   "execution_count": null,
   "id": "9fd67d44-786d-4696-b901-1b8dcef6165b",
   "metadata": {},
   "outputs": [],
   "source": [
    "# Check for missing values\n",
    "print(df.isnull().sum())  # Check for missing values in each column"
   ]
  },
  {
   "cell_type": "code",
   "execution_count": null,
   "id": "0dd36041-75ac-4aae-9259-6457996e057c",
   "metadata": {},
   "outputs": [],
   "source": [
    "# Handle missing values"
   ]
  },
  {
   "cell_type": "code",
   "execution_count": null,
   "id": "ab3c07c8-03d2-4157-9035-ad3cb73e98ae",
   "metadata": {},
   "outputs": [],
   "source": [
    "#   - Imputation: Filling missing values with mean, median, mode, or predicted values"
   ]
  },
  {
   "cell_type": "code",
   "execution_count": null,
   "id": "b576269f-ee0d-490d-878e-9c33a8fa10ba",
   "metadata": {},
   "outputs": [],
   "source": [
    "#   - Removal: Removing rows or columns with missing values"
   ]
  },
  {
   "cell_type": "code",
   "execution_count": null,
   "id": "ce43b1fa-28e1-41ed-8d79-9e7e53fd6fea",
   "metadata": {},
   "outputs": [],
   "source": [
    "# Identify the target variable\n",
    "target_variable = 'class'"
   ]
  },
  {
   "cell_type": "code",
   "execution_count": null,
   "id": "f2a8f903-1d17-43fa-8721-90a3229faf4a",
   "metadata": {},
   "outputs": [],
   "source": [
    "df.columns = column_names\n",
    "# Print the first few rows to verify\n",
    "print(df.head())"
   ]
  }
 ],
 "metadata": {
  "kernelspec": {
   "display_name": "Python 3 (ipykernel)",
   "language": "python",
   "name": "python3"
  },
  "language_info": {
   "codemirror_mode": {
    "name": "ipython",
    "version": 3
   },
   "file_extension": ".py",
   "mimetype": "text/x-python",
   "name": "python",
   "nbconvert_exporter": "python",
   "pygments_lexer": "ipython3",
   "version": "3.12.4"
  }
 },
 "nbformat": 4,
 "nbformat_minor": 5
}
